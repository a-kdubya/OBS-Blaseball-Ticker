{
 "cells": [
  {
   "cell_type": "code",
   "execution_count": 4,
   "metadata": {},
   "outputs": [
    {
     "name": "stdout",
     "output_type": "stream",
     "text": [
      "<  San Francisco Lovers 0-0 Dallas Steaks - Inning 0, Chicago Firefighters 0-0 Unlimited Tacos - Inning 0, Boston Flowers 0-0 Kansas City Breath Mints - Inning 0, New York Millennials 0-0 Charleston Shoe Thieves - Inning 0, Yellowstone Magic 0-0 Hawaii Fridays - Inning 0, Baltimore Crabs 0-0 Philly Pies - Inning 0, Hades Tigers 0-0 Mexico City Wild Wings - Inning 0, Canada Moist Talkers 0-0 Houston Spies - Inning 0, Miami Dale 0-0 Breckenridge Jazz Hands - Inning 0, Hellmouth Sunbeams 0-0 Seattle Garages - Inning 0  >\n",
      "1\n"
     ]
    },
    {
     "ename": "KeyboardInterrupt",
     "evalue": "",
     "output_type": "error",
     "traceback": [
      "\u001b[1;31m---------------------------------------------------------------------------\u001b[0m",
      "\u001b[1;31mKeyboardInterrupt\u001b[0m                         Traceback (most recent call last)",
      "\u001b[1;32m<ipython-input-4-06bbe096472e>\u001b[0m in \u001b[0;36m<module>\u001b[1;34m\u001b[0m\n\u001b[0;32m     37\u001b[0m     \u001b[0mprint\u001b[0m\u001b[1;33m(\u001b[0m\u001b[0mi\u001b[0m\u001b[1;33m)\u001b[0m\u001b[1;33m\u001b[0m\u001b[1;33m\u001b[0m\u001b[0m\n\u001b[0;32m     38\u001b[0m \u001b[1;33m\u001b[0m\u001b[0m\n\u001b[1;32m---> 39\u001b[1;33m     \u001b[0mtime\u001b[0m\u001b[1;33m.\u001b[0m\u001b[0msleep\u001b[0m\u001b[1;33m(\u001b[0m\u001b[1;36m60.0\u001b[0m \u001b[1;33m-\u001b[0m \u001b[1;33m(\u001b[0m\u001b[1;33m(\u001b[0m\u001b[0mtime\u001b[0m\u001b[1;33m.\u001b[0m\u001b[0mtime\u001b[0m\u001b[1;33m(\u001b[0m\u001b[1;33m)\u001b[0m \u001b[1;33m-\u001b[0m \u001b[0mstarttime\u001b[0m\u001b[1;33m)\u001b[0m \u001b[1;33m%\u001b[0m \u001b[1;36m60.0\u001b[0m\u001b[1;33m)\u001b[0m\u001b[1;33m)\u001b[0m\u001b[1;33m\u001b[0m\u001b[1;33m\u001b[0m\u001b[0m\n\u001b[0m\u001b[0;32m     40\u001b[0m \u001b[1;33m\u001b[0m\u001b[0m\n",
      "\u001b[1;31mKeyboardInterrupt\u001b[0m: "
     ]
    }
   ],
   "source": [
    "import pandas as pd\n",
    "daynum = input(\"enter previous game day'\")\n",
    "# daynum = '94'\n",
    "season = '&season=3'\n",
    "url = 'https://www.blaseball.com/database/games?day='\n",
    "final_url = \"\".join([url,daynum,season])\n",
    "i = 0\n",
    "import time\n",
    "starttime = time.time()\n",
    "while True:\n",
    "   \n",
    "    df = pd.read_json(final_url)\n",
    "    df.columns\n",
    "\n",
    "    cols = ['homeScore','awayScore']\n",
    "    df['scoreConcat'] = df[cols].apply(lambda row: '-'.join(row.values.astype(str)),axis=1)\n",
    "    df['inning'] = '- Inning ' + df['inning'].astype(str)\n",
    "\n",
    "    df = df[['homeTeamName','scoreConcat','awayTeamName','inning']]\n",
    "    x = df.to_string(header=False,\n",
    "                    index=False,\n",
    "                    index_names=False).split('\\n')\n",
    "    vals = [' '.join(ele.split()) for ele in x]\n",
    "    vals = str(vals).replace(\"'\",\"\")\n",
    "    vals = str(vals).replace(\"[\",\"<  \")\n",
    "    vals = str(vals).replace(\"]\",\"  >\")\n",
    "    vals = str(vals).replace(\"é\",\"e\")\n",
    "    print(vals)\n",
    "\n",
    "    text_file = open(\"gamescores.txt\", \"w\")\n",
    "    n = text_file.write(str(vals))\n",
    "    text_file.close()\n",
    "    i = i + 1\n",
    "    if i == 60:\n",
    "        print(i + 'runs' )\n",
    "        break\n",
    "    print(i)\n",
    "    \n",
    "    time.sleep(60.0 - ((time.time() - starttime) % 60.0))\n",
    "\n"
   ]
  },
  {
   "cell_type": "code",
   "execution_count": null,
   "metadata": {},
   "outputs": [],
   "source": []
  }
 ],
 "metadata": {
  "kernelspec": {
   "display_name": "Python 3",
   "language": "python",
   "name": "python3"
  },
  "language_info": {
   "codemirror_mode": {
    "name": "ipython",
    "version": 3
   },
   "file_extension": ".py",
   "mimetype": "text/x-python",
   "name": "python",
   "nbconvert_exporter": "python",
   "pygments_lexer": "ipython3",
   "version": "3.7.4"
  }
 },
 "nbformat": 4,
 "nbformat_minor": 2
}
